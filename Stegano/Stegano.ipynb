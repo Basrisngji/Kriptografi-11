{
 "cells": [
  {
   "cell_type": "code",
   "execution_count": 6,
   "id": "82fde9d8",
   "metadata": {},
   "outputs": [
    {
     "name": "stdout",
     "output_type": "stream",
     "text": [
      "Masukkan teks rahasia: messi\n",
      "Masukkan kunci: basri\n",
      "Teks enkripsi OTP :  1(HG4\n",
      "Teks akan dimasukkan ke gambar :  messi.png\n",
      "Gambar setelah menyisipkan teks :  hasilmessi.png\n",
      "Enkripsi selesai.\n",
      "Pesan yang didekripsi: .&44*\n"
     ]
    }
   ],
   "source": [
    "from stegano import lsb\n",
    "\n",
    "def enkripsi_otp_stegano(teks, kunci, path_gambar_input, path_gambar_output):\n",
    "    # Memeriksa panjang kunci dengan teks\n",
    "    if len(kunci) != len(teks):\n",
    "        raise ValueError(\"Error: Panjang kunci harus sama dengan panjang teks.\")\n",
    "        \n",
    "    # Enkripsi teks menggunakan kunci yang diberikan\n",
    "    teks_terenkripsi = ''.join(chr(((ord(a) + ord(b)) % 95) + 32) for a, b in zip(teks, kunci))\n",
    "    print(\"Teks enkripsi OTP : \", teks_terenkripsi)\n",
    "    print(\"Teks akan dimasukkan ke gambar : \", path_gambar_input)\n",
    "    \n",
    "    # Sembunyikan teks terenkripsi dalam gambar\n",
    "    rahasia = lsb.hide(path_gambar_input, teks_terenkripsi)\n",
    "    rahasia.save(path_gambar_output)\n",
    "    print(\"Gambar setelah menyisipkan teks : \", path_gambar_output)\n",
    "    \n",
    "def dekripsi_stegano_otp(path_gambar_output, kunci):\n",
    "    \n",
    "    # Ambil teks terenkripsi dari gambar\n",
    "    teks_terenkripsi = lsb.reveal(path_gambar_output)\n",
    "    \n",
    "    # Dekripsi teks menggunakan kunci yang diberikan\n",
    "    teks_didekripsi = ''.join(chr(((ord(a) - ord(b) - 32) % 95) + 32) for a, b in zip(teks_terenkripsi, kunci))\n",
    "    return teks_didekripsi\n",
    "\n",
    "path_gambar_input = 'messi.png' # Ganti dengan path gambar Anda\n",
    "path_gambar_output = 'hasilmessi.png' # Ganti dengan path output yang diinginkan\n",
    "\n",
    "# Input Teks dan Key\n",
    "teks_rahasia = input(\"Masukkan teks rahasia: \")\n",
    "kunci = input(\"Masukkan kunci: \")\n",
    "\n",
    "# Mulai Enkripsi\n",
    "enkripsi_otp_stegano(teks_rahasia, kunci, path_gambar_input, path_gambar_output)\n",
    "print(\"Enkripsi selesai.\")\n",
    "\n",
    "# Dekripsi\n",
    "teks_didekripsi = dekripsi_stegano_otp(path_gambar_output, kunci)\n",
    "print(f\"Pesan yang didekripsi: {teks_didekripsi}\")\n"
   ]
  },
  {
   "cell_type": "code",
   "execution_count": null,
   "id": "a5ec0ef3",
   "metadata": {},
   "outputs": [],
   "source": []
  }
 ],
 "metadata": {
  "kernelspec": {
   "display_name": "Python 3 (ipykernel)",
   "language": "python",
   "name": "python3"
  },
  "language_info": {
   "codemirror_mode": {
    "name": "ipython",
    "version": 3
   },
   "file_extension": ".py",
   "mimetype": "text/x-python",
   "name": "python",
   "nbconvert_exporter": "python",
   "pygments_lexer": "ipython3",
   "version": "3.10.0"
  }
 },
 "nbformat": 4,
 "nbformat_minor": 5
}
